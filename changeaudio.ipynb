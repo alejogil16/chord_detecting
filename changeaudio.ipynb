{
 "cells": [
  {
   "cell_type": "code",
   "execution_count": 12,
   "metadata": {},
   "outputs": [],
   "source": [
    "import os\n",
    "import librosa\n",
    "import numpy as np\n",
    "import soundfile as sf"
   ]
  },
  {
   "cell_type": "code",
   "execution_count": 13,
   "metadata": {},
   "outputs": [],
   "source": [
    "# Ruta a la carpeta base\n",
    "base_dir = \"/teamspace/studios/this_studio/chord_examples/base de datos 3\"\n",
    "\n",
    "# Ruta al audio de muestra\n",
    "sample_audio_path = \"/teamspace/studios/this_studio/chord_examples/piano_3_Cn_a_f_77.wav\""
   ]
  },
  {
   "cell_type": "code",
   "execution_count": 14,
   "metadata": {},
   "outputs": [],
   "source": [
    "# Función para homologar características de audio\n",
    "def match_audio_characteristics(target_path, reference_path, output_path):\n",
    "    # Cargar el archivo de referencia\n",
    "    ref_audio, ref_sr = librosa.load(reference_path, sr=None)\n",
    "    ref_duration = librosa.get_duration(y=ref_audio, sr=ref_sr)\n",
    "    \n",
    "    # Cargar el archivo de destino\n",
    "    target_audio, target_sr = librosa.load(target_path, sr=None)\n",
    "    \n",
    "    # Resamplear el audio de destino a la misma frecuencia de muestreo que el de referencia\n",
    "    if target_sr != ref_sr:\n",
    "        target_audio = librosa.resample(target_audio, orig_sr=target_sr, target_sr=ref_sr)\n",
    "        target_sr = ref_sr\n",
    "    \n",
    "    # Ajustar la duración del audio de destino a la del audio de referencia\n",
    "    target_duration = librosa.get_duration(y=target_audio, sr=target_sr)\n",
    "    if target_duration != ref_duration:\n",
    "        target_audio = librosa.util.fix_length(target_audio, size=int(ref_duration * target_sr))\n",
    "    \n",
    "    # Guardar el audio ajustado\n",
    "    sf.write(output_path, target_audio, target_sr)"
   ]
  },
  {
   "cell_type": "code",
   "execution_count": 15,
   "metadata": {},
   "outputs": [],
   "source": [
    "# Recorrer las carpetas de train y test\n",
    "for dataset in [\"train\", \"test\"]:\n",
    "    dataset_path = os.path.join(base_dir, dataset)\n",
    "    for root, _, files in os.walk(dataset_path):\n",
    "        for file in files:\n",
    "            if file.endswith(\".wav\"):\n",
    "                target_path = os.path.join(root, file)\n",
    "                output_path = target_path  # Sobrescribir el archivo original\n",
    "                match_audio_characteristics(target_path, sample_audio_path, output_path)\n",
    "\n"
   ]
  }
 ],
 "metadata": {
  "language_info": {
   "name": "python"
  }
 },
 "nbformat": 4,
 "nbformat_minor": 2
}
